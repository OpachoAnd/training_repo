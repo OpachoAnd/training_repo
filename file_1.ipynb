{
  "nbformat": 4,
  "nbformat_minor": 0,
  "metadata": {
    "colab": {
      "provenance": []
    },
    "kernelspec": {
      "name": "python3",
      "display_name": "Python 3"
    },
    "language_info": {
      "name": "python"
    }
  },
  "cells": [
    {
      "cell_type": "code",
      "execution_count": 1,
      "metadata": {
        "colab": {
          "base_uri": "https://localhost:8080/"
        },
        "id": "6WtqqcgqxeCq",
        "outputId": "0833c7dd-f377-45c8-d4e6-af476aa17cb8"
      },
      "outputs": [
        {
          "output_type": "stream",
          "name": "stdout",
          "text": [
            "Success init!\n",
            "Success init!\n"
          ]
        },
        {
          "output_type": "execute_result",
          "data": {
            "text/plain": [
              "(20, 3, 68)"
            ]
          },
          "metadata": {},
          "execution_count": 1
        }
      ],
      "source": [
        "def func(x):\n",
        "  return 2*x[0], 3*x[1], 4*x[2]\n",
        "class Point:\n",
        "  def __init__(self, x, y, z):\n",
        "    self.coord = (x, y, z)\n",
        "    self.coord2 = func(self.coord)\n",
        "    print('Success init!')\n",
        "p1 = Point(13, 14, 15)\n",
        "p1.coord # (13, 14, 15)\n",
        "p2 = Point(10, 1, 17)\n",
        "p2.coord # (10, 1, 17)\n",
        "p2.coord2 # (20, 3, 68)"
      ]
    },
    {
      "cell_type": "code",
      "source": [],
      "metadata": {
        "id": "BaVKjnwJx2Kx"
      },
      "execution_count": null,
      "outputs": []
    }
  ]
}